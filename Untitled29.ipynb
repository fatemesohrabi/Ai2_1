{
  "nbformat": 4,
  "nbformat_minor": 0,
  "metadata": {
    "colab": {
      "name": "Untitled29.ipynb",
      "provenance": [],
      "collapsed_sections": [],
      "include_colab_link": true
    },
    "kernelspec": {
      "name": "python3",
      "display_name": "Python 3"
    },
    "language_info": {
      "name": "python"
    },
    "accelerator": "GPU"
  },
  "cells": [
    {
      "cell_type": "markdown",
      "metadata": {
        "id": "view-in-github",
        "colab_type": "text"
      },
      "source": [
        "<a href=\"https://colab.research.google.com/github/fatemesohrabi/Ai2_1/blob/main/Untitled29.ipynb\" target=\"_parent\"><img src=\"https://colab.research.google.com/assets/colab-badge.svg\" alt=\"Open In Colab\"/></a>"
      ]
    },
    {
      "cell_type": "code",
      "metadata": {
        "colab": {
          "base_uri": "https://localhost:8080/",
          "height": 472
        },
        "id": "CkvnE5Q-uHA4",
        "outputId": "d8d8620f-184f-447a-bff6-9a410bcff231"
      },
      "source": [
        "import matplotlib.pyplot as plt\n",
        "import numpy as np\n",
        "from sklearn import datasets, linear_model\n",
        "from sklearn.metrics import mean_squared_error, r2_score\n",
        "import random\n",
        "\n",
        "\n",
        "x_train=np.sort(np.array(random.sample(range(1, 100), 5)))\n",
        "x_train=x_train[:,np.newaxis]\n",
        "print(x_train)\n",
        "x_train=x_train/100\n",
        "y_train=-0.3+0.5*np.sin(x_train*np.pi*2)\n",
        "print(y_train)\n",
        "\n",
        "x_test=np.sort(np.array(random.sample(range(1, 100), 99)))\n",
        "x_test=x_test[:,np.newaxis]\n",
        "x_test=x_test/100\n",
        "y_test=-0.3+0.5*np.sin(x_test*np.pi*2)\n",
        "landa=0.001\n",
        "#phi_train=np.concatenate((np.ones((len(x_train),1)),x_train,np.power(x_train,3),np.power(x_train,5),np.power(x_train,6),np.power(x_train,7),np.power(x_train,8),np.power(x_train,9)),axis=1)\n",
        "phi_train=np.concatenate((np.ones((len(x_train),1))),axis=1)\n",
        "\n",
        "# Training Step\n",
        "weight=np.matmul(np.matmul(np.linalg.inv(np.matmul(np.transpose(phi_train),phi_train)+landa*np.eye(np.shape(phi_train)[-1])),\n",
        "                     np.transpose(phi_train)),y_train)\t\n",
        "\n",
        "# Test Phase\n",
        "#phi_test=np.concatenate((np.ones((len(x_test),1)),x_test,np.power(x_test,3),np.power(x_test,5),np.power(x_test,6),np.power(x_test,7),np.power(x_test,8),np.power(x_test,9)),axis=1)\n",
        "phi_test=np.concatenate((np.ones((len(x_test),1))),axis=1)\n",
        "y_pred = np.matmul(phi_test,weight)\n",
        "\n",
        "\n",
        "# Explained variance score: 1 is perfect prediction\n",
        "print(len(x_train))\n",
        "print(len(x_test))\n",
        "# Plot outputs\n",
        "\n",
        "plt.scatter(x_train, y_train,  color='black')\n",
        "#plt.scatter(x_test, y_pred, color='blue')\n",
        "plt.plot(x_test, y_pred, color='blue',linewidth=3)\n",
        "plt.plot(x_test, y_test, color='green')\n",
        "\n",
        "plt.show()"
      ],
      "execution_count": 1,
      "outputs": [
        {
          "output_type": "stream",
          "text": [
            "[[27]\n",
            " [51]\n",
            " [72]\n",
            " [80]\n",
            " [87]]\n",
            "[[ 0.19605735]\n",
            " [-0.33139526]\n",
            " [-0.79114363]\n",
            " [-0.77552826]\n",
            " [-0.66448431]]\n"
          ],
          "name": "stdout"
        },
        {
          "output_type": "error",
          "ename": "AxisError",
          "evalue": "ignored",
          "traceback": [
            "\u001b[0;31m---------------------------------------------------------------------------\u001b[0m",
            "\u001b[0;31mAxisError\u001b[0m                                 Traceback (most recent call last)",
            "\u001b[0;32m<ipython-input-1-b9b8675ede81>\u001b[0m in \u001b[0;36m<module>\u001b[0;34m()\u001b[0m\n\u001b[1;32m     19\u001b[0m \u001b[0mlanda\u001b[0m\u001b[0;34m=\u001b[0m\u001b[0;36m0.001\u001b[0m\u001b[0;34m\u001b[0m\u001b[0;34m\u001b[0m\u001b[0m\n\u001b[1;32m     20\u001b[0m \u001b[0;31m#phi_train=np.concatenate((np.ones((len(x_train),1)),x_train,np.power(x_train,3),np.power(x_train,5),np.power(x_train,6),np.power(x_train,7),np.power(x_train,8),np.power(x_train,9)),axis=1)\u001b[0m\u001b[0;34m\u001b[0m\u001b[0;34m\u001b[0m\u001b[0;34m\u001b[0m\u001b[0m\n\u001b[0;32m---> 21\u001b[0;31m \u001b[0mphi_train\u001b[0m\u001b[0;34m=\u001b[0m\u001b[0mnp\u001b[0m\u001b[0;34m.\u001b[0m\u001b[0mconcatenate\u001b[0m\u001b[0;34m(\u001b[0m\u001b[0;34m(\u001b[0m\u001b[0mnp\u001b[0m\u001b[0;34m.\u001b[0m\u001b[0mones\u001b[0m\u001b[0;34m(\u001b[0m\u001b[0;34m(\u001b[0m\u001b[0mlen\u001b[0m\u001b[0;34m(\u001b[0m\u001b[0mx_train\u001b[0m\u001b[0;34m)\u001b[0m\u001b[0;34m,\u001b[0m\u001b[0;36m1\u001b[0m\u001b[0;34m)\u001b[0m\u001b[0;34m)\u001b[0m\u001b[0;34m)\u001b[0m\u001b[0;34m,\u001b[0m\u001b[0maxis\u001b[0m\u001b[0;34m=\u001b[0m\u001b[0;36m1\u001b[0m\u001b[0;34m)\u001b[0m\u001b[0;34m\u001b[0m\u001b[0;34m\u001b[0m\u001b[0m\n\u001b[0m\u001b[1;32m     22\u001b[0m \u001b[0;34m\u001b[0m\u001b[0m\n\u001b[1;32m     23\u001b[0m \u001b[0;31m# Training Step\u001b[0m\u001b[0;34m\u001b[0m\u001b[0;34m\u001b[0m\u001b[0;34m\u001b[0m\u001b[0m\n",
            "\u001b[0;32m<__array_function__ internals>\u001b[0m in \u001b[0;36mconcatenate\u001b[0;34m(*args, **kwargs)\u001b[0m\n",
            "\u001b[0;31mAxisError\u001b[0m: axis 1 is out of bounds for array of dimension 1"
          ]
        }
      ]
    }
  ]
}